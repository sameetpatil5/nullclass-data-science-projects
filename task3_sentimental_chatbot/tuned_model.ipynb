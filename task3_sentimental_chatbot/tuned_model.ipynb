{
 "cells": [
  {
   "cell_type": "code",
   "execution_count": null,
   "metadata": {},
   "outputs": [],
   "source": [
    "import google.generativeai as genai\n",
    "import pandas as pd\n",
    "import seaborn as sns\n",
    "import time, os\n",
    "from dotenv import load_dotenv"
   ]
  },
  {
   "cell_type": "code",
   "execution_count": null,
   "metadata": {},
   "outputs": [],
   "source": [
    "load_dotenv()\n",
    "\n",
    "sentiments = pd.read_csv(\"../task3_sentimental_chatbot/dataset/chat_dataset.csv\")\n",
    "BASE_MODEL = \"models/gemini-1.5-flash-001-tuning\"\n",
    "MODEL_DISPLAY_NAME = \"sentimental-bot\""
   ]
  },
  {
   "cell_type": "code",
   "execution_count": null,
   "metadata": {},
   "outputs": [],
   "source": [
    "training_data = []\n",
    "\n",
    "for index, row in sentiments.iterrows():\n",
    "    training_data.append({\"text_input\": row.message, \"output\": row.sentiment})\n",
    "\n",
    "print(training_data[:5])"
   ]
  },
  {
   "cell_type": "code",
   "execution_count": null,
   "metadata": {},
   "outputs": [],
   "source": [
    "genai.configure(api_key=os.environ.get(\"GEMINI_API_KEY\"))\n",
    "\n",
    "try:\n",
    "    operation = genai.create_tuned_model(\n",
    "        display_name=MODEL_DISPLAY_NAME,\n",
    "        source_model=BASE_MODEL,\n",
    "        epoch_count=20,\n",
    "        batch_size=5,\n",
    "        learning_rate=0.001,\n",
    "        training_data=training_data,\n",
    "    )\n",
    "\n",
    "    for status in operation.wait_bar():\n",
    "        time.sleep(10)\n",
    "\n",
    "    result = operation.result()\n",
    "    print(result)\n",
    "\n",
    "    # Success Message\n",
    "    print(\"\\n\\nModel Successfully fine tuned\")\n",
    "\n",
    "except Exception as e:\n",
    "    print(\"Error:\", e)"
   ]
  },
  {
   "cell_type": "code",
   "execution_count": null,
   "metadata": {},
   "outputs": [],
   "source": [
    "# Plot loss function curve\n",
    "snapshots = pd.DataFrame(result.tuning_task.snapshots)\n",
    "sns.lineplot(data=snapshots, x=\"epoch\", y=\"mean_loss\")"
   ]
  },
  {
   "cell_type": "code",
   "execution_count": null,
   "metadata": {},
   "outputs": [],
   "source": [
    "# Update the environment variable for model path\n",
    "os.environ.update({\"SEMTIMENTIAL_MODEL\": result.name})"
   ]
  },
  {
   "cell_type": "code",
   "execution_count": null,
   "metadata": {},
   "outputs": [],
   "source": [
    "model = genai.GenerativeModel(model_name=result.name)\n",
    "\n",
    "result = model.generate_content(\"I dont like this product\")\n",
    "print(result.text)"
   ]
  },
  {
   "cell_type": "code",
   "execution_count": null,
   "metadata": {},
   "outputs": [],
   "source": [
    "genai.update_tuned_model(\n",
    "    os.environ.get(\"SEMTIMENTIAL_MODEL\"),\n",
    "    {\n",
    "        \"description\": \"Classifies Sentiments based on the the input into [positive, neutral, negative] categories\"\n",
    "    },\n",
    ")"
   ]
  },
  {
   "cell_type": "code",
   "execution_count": null,
   "metadata": {},
   "outputs": [],
   "source": [
    "# List all the models fine-tuned\n",
    "for model_info in genai.list_tuned_models():\n",
    "    print(\n",
    "        f\"\\n\\\n",
    "        Model: {model_info.name}\\n\\\n",
    "        Description: {model_info.description}\"\n",
    "    )"
   ]
  }
 ],
 "metadata": {
  "kernelspec": {
   "display_name": ".venv",
   "language": "python",
   "name": "python3"
  },
  "language_info": {
   "codemirror_mode": {
    "name": "ipython",
    "version": 3
   },
   "file_extension": ".py",
   "mimetype": "text/x-python",
   "name": "python",
   "nbconvert_exporter": "python",
   "pygments_lexer": "ipython3",
   "version": "3.12.4"
  }
 },
 "nbformat": 4,
 "nbformat_minor": 2
}
