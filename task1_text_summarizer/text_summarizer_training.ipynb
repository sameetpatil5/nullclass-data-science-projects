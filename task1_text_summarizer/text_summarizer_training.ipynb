{
 "cells": [
  {
   "cell_type": "markdown",
   "metadata": {},
   "source": [
    "# Text Summarization using Python, NLTK, NLP"
   ]
  },
  {
   "cell_type": "code",
   "execution_count": 10,
   "metadata": {},
   "outputs": [],
   "source": [
    "from nltk import sent_tokenize, word_tokenize\n",
    "from nltk.corpus import stopwords\n",
    "from nltk import PorterStemmer"
   ]
  },
  {
   "cell_type": "code",
   "execution_count": 11,
   "metadata": {},
   "outputs": [
    {
     "name": "stderr",
     "output_type": "stream",
     "text": [
      "[nltk_data] Downloading package punkt_tab to C:\\Users\\sameet\n",
      "[nltk_data]     patil\\AppData\\Roaming\\nltk_data...\n",
      "[nltk_data]   Package punkt_tab is already up-to-date!\n"
     ]
    },
    {
     "data": {
      "text/plain": [
       "True"
      ]
     },
     "execution_count": 11,
     "metadata": {},
     "output_type": "execute_result"
    }
   ],
   "source": [
    "import nltk\n",
    "nltk.download('punkt_tab')"
   ]
  },
  {
   "cell_type": "code",
   "execution_count": 12,
   "metadata": {},
   "outputs": [],
   "source": [
    "def create_frequency_table(text_string) -> dict:\n",
    "\n",
    "    stop_words = set(stopwords.words(\"english\"))\n",
    "    words = word_tokenize(text_string)\n",
    "    ps = PorterStemmer()\n",
    "\n",
    "    freq_table = dict()\n",
    "    for word in words:\n",
    "        word = ps.stem(word)\n",
    "        if word in stop_words:\n",
    "            continue\n",
    "        if word in freq_table:\n",
    "            freq_table[word] += 1\n",
    "        else:\n",
    "            freq_table[word] = 1\n",
    "\n",
    "    return freq_table"
   ]
  },
  {
   "cell_type": "code",
   "execution_count": 13,
   "metadata": {},
   "outputs": [],
   "source": [
    "def score_sentences(sentences, freq_table) -> dict:\n",
    "    sentence_value = dict()\n",
    "\n",
    "    for sentence in sentences:\n",
    "        word_count_in_sentence = len(word_tokenize(sentence))\n",
    "        if word_count_in_sentence == 0:\n",
    "            continue\n",
    "        for word_value in freq_table:\n",
    "            if word_value in sentence.lower():\n",
    "                if sentence in sentence_value:\n",
    "                    sentence_value[sentence] += freq_table[word_value]\n",
    "                else:\n",
    "                    sentence_value[sentence] = freq_table[\n",
    "                        word_value\n",
    "                    ]\n",
    "\n",
    "        sentence_value[sentence] = (sentence_value.get(sentence, 0) // word_count_in_sentence)\n",
    "\n",
    "    return sentence_value"
   ]
  },
  {
   "cell_type": "code",
   "execution_count": 14,
   "metadata": {},
   "outputs": [],
   "source": [
    "def find_average_score(sentence_value) -> int:\n",
    "    sum_values = 0\n",
    "    for entry in sentence_value:\n",
    "        sum_values += sentence_value[entry]\n",
    "\n",
    "    # Average value of a sentence from original text\n",
    "    average = int(sum_values / len(sentence_value))\n",
    "\n",
    "    return average"
   ]
  },
  {
   "cell_type": "code",
   "execution_count": 15,
   "metadata": {},
   "outputs": [],
   "source": [
    "def generate_summary(sentences, sentence_value, threshold) -> str:\n",
    "    sentence_count = 0\n",
    "    summary = \"\"\n",
    "\n",
    "    for sentence in sentences:\n",
    "        if sentence in sentence_value and sentence_value[sentence] > (threshold):\n",
    "            summary += \" \" + sentence\n",
    "            sentence_count += 1\n",
    "\n",
    "    return summary"
   ]
  },
  {
   "cell_type": "code",
   "execution_count": 16,
   "metadata": {},
   "outputs": [],
   "source": [
    "def summarize_text(text) -> str:\n",
    "    # Create the word frequency table\n",
    "    freq_table = create_frequency_table(text)\n",
    "\n",
    "    # Tokenize the sentences\n",
    "    sentences = sent_tokenize(text)\n",
    "\n",
    "    # Important Algorithm: score the sentences\n",
    "    sentence_scores = score_sentences(sentences, freq_table)\n",
    "\n",
    "    # Find the threshold\n",
    "    threshold = 1.3 * find_average_score(sentence_scores)\n",
    "\n",
    "    # Important Algorithm: Generate the summary\n",
    "    summary = generate_summary(sentences, sentence_scores, threshold)\n",
    "\n",
    "    return summary"
   ]
  },
  {
   "cell_type": "code",
   "execution_count": 17,
   "metadata": {},
   "outputs": [
    {
     "name": "stdout",
     "output_type": "stream",
     "text": [
      "Summary written to summary.txt file successfully.\n"
     ]
    }
   ],
   "source": [
    "with open(\"text.txt\", \"r\") as f_read, open(\"summary.txt\", \"w\") as f_write:\n",
    "    text = f_read.read()\n",
    "\n",
    "    # Important Algorithm: Generate the summary\n",
    "    summary = summarize_text(text)\n",
    "\n",
    "    # Write to the summary file\n",
    "    f_write.write(summary)\n",
    "\n",
    "print(\"Summary written to summary.txt file successfully.\")"
   ]
  },
  {
   "cell_type": "code",
   "execution_count": 18,
   "metadata": {},
   "outputs": [],
   "source": [
    "from sklearn.feature_extraction.text import TfidfVectorizer\n",
    "import spacy\n",
    "\n",
    "nlp = spacy.load(\"en_core_web_sm\")\n",
    "\n",
    "\n",
    "def summarize_with_tfidf(text, top_n=5):\n",
    "    doc = nlp(text)\n",
    "    sentences = [sent.text.strip() for sent in doc.sents if sent.text.strip()]\n",
    "\n",
    "    if len(sentences) < top_n:\n",
    "        top_n = len(sentences)\n",
    "\n",
    "    # Calculate TF-IDF scores\n",
    "    vectorizer = TfidfVectorizer(stop_words=\"english\")\n",
    "    tfidf_matrix = vectorizer.fit_transform(sentences)\n",
    "    sentence_scores = tfidf_matrix.sum(axis=1).A1 \n",
    "\n",
    "    # Rank sentences by score\n",
    "    ranked_sentences = [\n",
    "        (score, sentence) for score, sentence in zip(sentence_scores, sentences)\n",
    "    ]\n",
    "    ranked_sentences = sorted(ranked_sentences, reverse=True, key=lambda x: x[0])\n",
    "\n",
    "    # Generate summary with top-ranked sentences\n",
    "    summary = \" \".join([sentence for _, sentence in ranked_sentences[:top_n]])\n",
    "    return summary"
   ]
  },
  {
   "cell_type": "code",
   "execution_count": 19,
   "metadata": {},
   "outputs": [
    {
     "name": "stdout",
     "output_type": "stream",
     "text": [
      "Summary written to tf-idf_summary.txt file successfully.\n"
     ]
    }
   ],
   "source": [
    "with open(\"text.txt\", \"r\") as f_read, open(\"tf-idf_summary.txt\", \"w\") as f_write:\n",
    "    text = f_read.read()\n",
    "\n",
    "    # Generate the summary using TF-IDF\n",
    "    summary = summarize_with_tfidf(text)\n",
    "\n",
    "    # Write to the summary file\n",
    "    f_write.write(summary)\n",
    "\n",
    "print(\"Summary written to tf-idf_summary.txt file successfully.\")"
   ]
  }
 ],
 "metadata": {
  "kernelspec": {
   "display_name": ".venv",
   "language": "python",
   "name": "python3"
  },
  "language_info": {
   "codemirror_mode": {
    "name": "ipython",
    "version": 3
   },
   "file_extension": ".py",
   "mimetype": "text/x-python",
   "name": "python",
   "nbconvert_exporter": "python",
   "pygments_lexer": "ipython3",
   "version": "3.12.4"
  }
 },
 "nbformat": 4,
 "nbformat_minor": 2
}
